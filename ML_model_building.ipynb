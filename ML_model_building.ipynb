{
 "cells": [
  {
   "cell_type": "code",
   "execution_count": 5,
   "id": "f1a6ac1d",
   "metadata": {},
   "outputs": [],
   "source": [
    "import numpy as np,pandas as pd,matplotlib.pyplot as plt,seaborn as sns"
   ]
  },
  {
   "cell_type": "code",
   "execution_count": 6,
   "id": "3b8493da",
   "metadata": {},
   "outputs": [],
   "source": [
    "df = pd.read_csv('credit_risk_dataset1.csv')"
   ]
  },
  {
   "cell_type": "markdown",
   "id": "dcd79946",
   "metadata": {},
   "source": [
    "# Data Preparation and Model Building Pipeline\n",
    "* Identifying the inputs (X) and output (y)\n",
    "* Split into train and test (X_train, X_test, y_train, y_test)\n",
    "* Data Preparation: Data Cleaning and Feature Engineering.\n",
    "* Clean the training data\n",
    "* Preprocess the training data (X_train_transformed)\n",
    "* Training Phase: Build a model\n",
    "* Preprocess the test data (X_test_transformed)\n",
    "* Predict on unseen data\n",
    "* Evaluate the model performance"
   ]
  },
  {
   "cell_type": "markdown",
   "id": "7e07f5f6",
   "metadata": {},
   "source": [
    "# Identifying the inputs (X) and output (y)"
   ]
  },
  {
   "cell_type": "code",
   "execution_count": 7,
   "id": "5080b781",
   "metadata": {},
   "outputs": [
    {
     "data": {
      "text/plain": [
       "Index(['Unnamed: 0', 'person_age', 'person_income', 'person_home_ownership',\n",
       "       'person_emp_length', 'loan_intent', 'loan_grade', 'loan_amnt',\n",
       "       'loan_int_rate', 'loan_status', 'loan_percent_income',\n",
       "       'cb_person_default_on_file', 'cb_person_cred_hist_length'],\n",
       "      dtype='object')"
      ]
     },
     "execution_count": 7,
     "metadata": {},
     "output_type": "execute_result"
    }
   ],
   "source": [
    "df.columns"
   ]
  },
  {
   "cell_type": "markdown",
   "id": "ee611b13",
   "metadata": {},
   "source": [
    "### Inputs\n",
    "* 'person_age'\n",
    "* 'person_income'\n",
    "* 'person_home_ownership'\n",
    "* 'person_emp_length' \n",
    "* 'loan_intent'\n",
    "* 'loan_grade'\n",
    "* 'loan_amnt',\n",
    "* 'loan_int_rate'\n",
    "* 'loan_status'\n",
    "* 'loan_percent_income'\n",
    "* 'cb_person_default_on_file'\n",
    "* 'cb_person_cred_hist_length'\n",
    "### output\n",
    "* 'loan_status'"
   ]
  },
  {
   "cell_type": "markdown",
   "id": "d6f9236c",
   "metadata": {},
   "source": [
    "### Step 3 - Segregate Inputs (X) and Output (y)"
   ]
  },
  {
   "cell_type": "code",
   "execution_count": 8,
   "id": "8506d14b",
   "metadata": {},
   "outputs": [],
   "source": [
    "df.drop(columns='Unnamed: 0', inplace=True)"
   ]
  },
  {
   "cell_type": "code",
   "execution_count": 9,
   "id": "a740bd14",
   "metadata": {},
   "outputs": [],
   "source": [
    "y = df.pop('loan_status')\n",
    "X = df"
   ]
  },
  {
   "cell_type": "code",
   "execution_count": 10,
   "id": "65d23812",
   "metadata": {},
   "outputs": [
    {
     "data": {
      "text/html": [
       "<div>\n",
       "<style scoped>\n",
       "    .dataframe tbody tr th:only-of-type {\n",
       "        vertical-align: middle;\n",
       "    }\n",
       "\n",
       "    .dataframe tbody tr th {\n",
       "        vertical-align: top;\n",
       "    }\n",
       "\n",
       "    .dataframe thead th {\n",
       "        text-align: right;\n",
       "    }\n",
       "</style>\n",
       "<table border=\"1\" class=\"dataframe\">\n",
       "  <thead>\n",
       "    <tr style=\"text-align: right;\">\n",
       "      <th></th>\n",
       "      <th>person_age</th>\n",
       "      <th>person_income</th>\n",
       "      <th>person_home_ownership</th>\n",
       "      <th>person_emp_length</th>\n",
       "      <th>loan_intent</th>\n",
       "      <th>loan_grade</th>\n",
       "      <th>loan_amnt</th>\n",
       "      <th>loan_int_rate</th>\n",
       "      <th>loan_percent_income</th>\n",
       "      <th>cb_person_default_on_file</th>\n",
       "      <th>cb_person_cred_hist_length</th>\n",
       "    </tr>\n",
       "  </thead>\n",
       "  <tbody>\n",
       "    <tr>\n",
       "      <th>0</th>\n",
       "      <td>22.0</td>\n",
       "      <td>59000.0</td>\n",
       "      <td>RENT</td>\n",
       "      <td>4.0</td>\n",
       "      <td>PERSONAL</td>\n",
       "      <td>D</td>\n",
       "      <td>8000.0</td>\n",
       "      <td>16.02</td>\n",
       "      <td>0.15</td>\n",
       "      <td>Y</td>\n",
       "      <td>3.0</td>\n",
       "    </tr>\n",
       "    <tr>\n",
       "      <th>1</th>\n",
       "      <td>21.0</td>\n",
       "      <td>9600.0</td>\n",
       "      <td>OWN</td>\n",
       "      <td>5.0</td>\n",
       "      <td>EDUCATION</td>\n",
       "      <td>B</td>\n",
       "      <td>1000.0</td>\n",
       "      <td>11.14</td>\n",
       "      <td>0.10</td>\n",
       "      <td>N</td>\n",
       "      <td>2.0</td>\n",
       "    </tr>\n",
       "    <tr>\n",
       "      <th>2</th>\n",
       "      <td>25.0</td>\n",
       "      <td>9600.0</td>\n",
       "      <td>MORTGAGE</td>\n",
       "      <td>1.0</td>\n",
       "      <td>MEDICAL</td>\n",
       "      <td>C</td>\n",
       "      <td>5500.0</td>\n",
       "      <td>12.87</td>\n",
       "      <td>0.15</td>\n",
       "      <td>N</td>\n",
       "      <td>3.0</td>\n",
       "    </tr>\n",
       "    <tr>\n",
       "      <th>3</th>\n",
       "      <td>23.0</td>\n",
       "      <td>65500.0</td>\n",
       "      <td>RENT</td>\n",
       "      <td>4.0</td>\n",
       "      <td>MEDICAL</td>\n",
       "      <td>C</td>\n",
       "      <td>8000.0</td>\n",
       "      <td>15.23</td>\n",
       "      <td>0.15</td>\n",
       "      <td>N</td>\n",
       "      <td>2.0</td>\n",
       "    </tr>\n",
       "    <tr>\n",
       "      <th>4</th>\n",
       "      <td>24.0</td>\n",
       "      <td>54400.0</td>\n",
       "      <td>RENT</td>\n",
       "      <td>8.0</td>\n",
       "      <td>MEDICAL</td>\n",
       "      <td>C</td>\n",
       "      <td>8000.0</td>\n",
       "      <td>14.27</td>\n",
       "      <td>0.15</td>\n",
       "      <td>Y</td>\n",
       "      <td>4.0</td>\n",
       "    </tr>\n",
       "  </tbody>\n",
       "</table>\n",
       "</div>"
      ],
      "text/plain": [
       "   person_age  person_income person_home_ownership  person_emp_length  \\\n",
       "0        22.0        59000.0                  RENT                4.0   \n",
       "1        21.0         9600.0                   OWN                5.0   \n",
       "2        25.0         9600.0              MORTGAGE                1.0   \n",
       "3        23.0        65500.0                  RENT                4.0   \n",
       "4        24.0        54400.0                  RENT                8.0   \n",
       "\n",
       "  loan_intent loan_grade  loan_amnt  loan_int_rate  loan_percent_income  \\\n",
       "0    PERSONAL          D     8000.0          16.02                 0.15   \n",
       "1   EDUCATION          B     1000.0          11.14                 0.10   \n",
       "2     MEDICAL          C     5500.0          12.87                 0.15   \n",
       "3     MEDICAL          C     8000.0          15.23                 0.15   \n",
       "4     MEDICAL          C     8000.0          14.27                 0.15   \n",
       "\n",
       "  cb_person_default_on_file  cb_person_cred_hist_length  \n",
       "0                         Y                         3.0  \n",
       "1                         N                         2.0  \n",
       "2                         N                         3.0  \n",
       "3                         N                         2.0  \n",
       "4                         Y                         4.0  "
      ]
     },
     "execution_count": 10,
     "metadata": {},
     "output_type": "execute_result"
    }
   ],
   "source": [
    "X.head()"
   ]
  },
  {
   "cell_type": "markdown",
   "id": "e8fd02e5",
   "metadata": {},
   "source": [
    "### Step 4 - Split the data into Train and Test"
   ]
  },
  {
   "cell_type": "code",
   "execution_count": 11,
   "id": "484d04a6",
   "metadata": {},
   "outputs": [
    {
     "name": "stdout",
     "output_type": "stream",
     "text": [
      "(24320, 11) (24320,)\n",
      "(8107, 11) (8107,)\n"
     ]
    }
   ],
   "source": [
    "from sklearn.model_selection import train_test_split\n",
    "X_train, X_test, y_train, y_test = train_test_split(X, y, test_size = 0.25, random_state = 0)\n",
    "\n",
    "print(X_train.shape, y_train.shape)\n",
    "print(X_test.shape, y_test.shape)"
   ]
  },
  {
   "cell_type": "markdown",
   "id": "e4bed3c3",
   "metadata": {},
   "source": [
    "# Step 5 - Apply Data Preparation on Training Data\n",
    "\n",
    "* Separate Numerical and Categorical Features\n",
    "* Feature Engineering/Extraction/Transformation\n",
    "* Applying Standardization on Numerical Features\n",
    "* Applying LabelEncoding on Categorical Features"
   ]
  },
  {
   "cell_type": "code",
   "execution_count": 12,
   "id": "2c011360",
   "metadata": {},
   "outputs": [
    {
     "data": {
      "text/plain": [
       "person_age                    float64\n",
       "person_income                 float64\n",
       "person_home_ownership          object\n",
       "person_emp_length             float64\n",
       "loan_intent                    object\n",
       "loan_grade                     object\n",
       "loan_amnt                     float64\n",
       "loan_int_rate                 float64\n",
       "loan_percent_income           float64\n",
       "cb_person_default_on_file      object\n",
       "cb_person_cred_hist_length    float64\n",
       "dtype: object"
      ]
     },
     "execution_count": 12,
     "metadata": {},
     "output_type": "execute_result"
    }
   ],
   "source": [
    "X_train.dtypes"
   ]
  },
  {
   "cell_type": "markdown",
   "id": "02d913bb",
   "metadata": {},
   "source": [
    "### Separate Numerical and Categorical Features"
   ]
  },
  {
   "cell_type": "code",
   "execution_count": 13,
   "id": "d437b7f2",
   "metadata": {},
   "outputs": [],
   "source": [
    "X_train_cat = X_train.select_dtypes(include=['object'])\n",
    "X_train_num = X_train.select_dtypes(include=['int64', 'float64'])"
   ]
  },
  {
   "cell_type": "markdown",
   "id": "8f9bb0f7",
   "metadata": {},
   "source": [
    "### Numerical Feature Transformation \n",
    "* Normalization\n",
    "* Standardization (We will use this method in this project)\n",
    "### Categorical Feature Transformation \n",
    "* One Hot Encoding\n",
    "* Label Encoding\n",
    "* Ordinal Encoding (We will us this method in this project)"
   ]
  },
  {
   "cell_type": "markdown",
   "id": "6f8427a8",
   "metadata": {},
   "source": [
    "### Tranformation on X_train Data"
   ]
  },
  {
   "cell_type": "markdown",
   "id": "832c78b8",
   "metadata": {},
   "source": [
    "### Numerical Feature Transformation: Applying Standardization"
   ]
  },
  {
   "cell_type": "code",
   "execution_count": 14,
   "id": "4896a771",
   "metadata": {},
   "outputs": [
    {
     "data": {
      "text/html": [
       "<div>\n",
       "<style scoped>\n",
       "    .dataframe tbody tr th:only-of-type {\n",
       "        vertical-align: middle;\n",
       "    }\n",
       "\n",
       "    .dataframe tbody tr th {\n",
       "        vertical-align: top;\n",
       "    }\n",
       "\n",
       "    .dataframe thead th {\n",
       "        text-align: right;\n",
       "    }\n",
       "</style>\n",
       "<table border=\"1\" class=\"dataframe\">\n",
       "  <thead>\n",
       "    <tr style=\"text-align: right;\">\n",
       "      <th></th>\n",
       "      <th>person_age</th>\n",
       "      <th>person_income</th>\n",
       "      <th>person_emp_length</th>\n",
       "      <th>loan_amnt</th>\n",
       "      <th>loan_int_rate</th>\n",
       "      <th>loan_percent_income</th>\n",
       "      <th>cb_person_cred_hist_length</th>\n",
       "    </tr>\n",
       "  </thead>\n",
       "  <tbody>\n",
       "    <tr>\n",
       "      <th>2778</th>\n",
       "      <td>-0.627475</td>\n",
       "      <td>-0.093122</td>\n",
       "      <td>-0.118705</td>\n",
       "      <td>0.686069</td>\n",
       "      <td>-0.642377</td>\n",
       "      <td>0.488384</td>\n",
       "      <td>-0.715951</td>\n",
       "    </tr>\n",
       "    <tr>\n",
       "      <th>21362</th>\n",
       "      <td>0.049362</td>\n",
       "      <td>-1.509330</td>\n",
       "      <td>-1.297761</td>\n",
       "      <td>-0.545711</td>\n",
       "      <td>-1.090839</td>\n",
       "      <td>1.752059</td>\n",
       "      <td>-0.095702</td>\n",
       "    </tr>\n",
       "    <tr>\n",
       "      <th>5453</th>\n",
       "      <td>-0.627475</td>\n",
       "      <td>-0.503077</td>\n",
       "      <td>0.176058</td>\n",
       "      <td>-0.751008</td>\n",
       "      <td>0.662800</td>\n",
       "      <td>-0.564679</td>\n",
       "      <td>-0.405827</td>\n",
       "    </tr>\n",
       "    <tr>\n",
       "      <th>1540</th>\n",
       "      <td>-0.853087</td>\n",
       "      <td>-1.062107</td>\n",
       "      <td>-1.002997</td>\n",
       "      <td>-1.479811</td>\n",
       "      <td>1.411267</td>\n",
       "      <td>-1.196517</td>\n",
       "      <td>-0.405827</td>\n",
       "    </tr>\n",
       "    <tr>\n",
       "      <th>32411</th>\n",
       "      <td>-0.176250</td>\n",
       "      <td>-0.316734</td>\n",
       "      <td>-0.708233</td>\n",
       "      <td>2.328443</td>\n",
       "      <td>-1.084653</td>\n",
       "      <td>2.489203</td>\n",
       "      <td>-0.405827</td>\n",
       "    </tr>\n",
       "  </tbody>\n",
       "</table>\n",
       "</div>"
      ],
      "text/plain": [
       "       person_age  person_income  person_emp_length  loan_amnt  loan_int_rate  \\\n",
       "2778    -0.627475      -0.093122          -0.118705   0.686069      -0.642377   \n",
       "21362    0.049362      -1.509330          -1.297761  -0.545711      -1.090839   \n",
       "5453    -0.627475      -0.503077           0.176058  -0.751008       0.662800   \n",
       "1540    -0.853087      -1.062107          -1.002997  -1.479811       1.411267   \n",
       "32411   -0.176250      -0.316734          -0.708233   2.328443      -1.084653   \n",
       "\n",
       "       loan_percent_income  cb_person_cred_hist_length  \n",
       "2778              0.488384                   -0.715951  \n",
       "21362             1.752059                   -0.095702  \n",
       "5453             -0.564679                   -0.405827  \n",
       "1540             -1.196517                   -0.405827  \n",
       "32411             2.489203                   -0.405827  "
      ]
     },
     "execution_count": 14,
     "metadata": {},
     "output_type": "execute_result"
    }
   ],
   "source": [
    "from sklearn.preprocessing import StandardScaler\n",
    "\n",
    "std_scaler = StandardScaler()\n",
    "\n",
    "X_train_num_transformed = pd.DataFrame(std_scaler.fit_transform(X_train_num), \n",
    "                                    columns = std_scaler.get_feature_names_out(), \n",
    "                                    index = X_train_num.index)\n",
    "\n",
    "X_train_num_transformed.head()"
   ]
  },
  {
   "cell_type": "markdown",
   "id": "0c45ca9c",
   "metadata": {},
   "source": [
    "### Categorical Feature Transformation: Applying Ordinal Encoding"
   ]
  },
  {
   "cell_type": "code",
   "execution_count": 15,
   "id": "f919813e",
   "metadata": {},
   "outputs": [
    {
     "data": {
      "text/html": [
       "<div>\n",
       "<style scoped>\n",
       "    .dataframe tbody tr th:only-of-type {\n",
       "        vertical-align: middle;\n",
       "    }\n",
       "\n",
       "    .dataframe tbody tr th {\n",
       "        vertical-align: top;\n",
       "    }\n",
       "\n",
       "    .dataframe thead th {\n",
       "        text-align: right;\n",
       "    }\n",
       "</style>\n",
       "<table border=\"1\" class=\"dataframe\">\n",
       "  <thead>\n",
       "    <tr style=\"text-align: right;\">\n",
       "      <th></th>\n",
       "      <th>person_home_ownership</th>\n",
       "      <th>loan_intent</th>\n",
       "      <th>loan_grade</th>\n",
       "      <th>cb_person_default_on_file</th>\n",
       "    </tr>\n",
       "  </thead>\n",
       "  <tbody>\n",
       "    <tr>\n",
       "      <th>2778</th>\n",
       "      <td>3.0</td>\n",
       "      <td>2.0</td>\n",
       "      <td>0.0</td>\n",
       "      <td>0.0</td>\n",
       "    </tr>\n",
       "    <tr>\n",
       "      <th>21362</th>\n",
       "      <td>3.0</td>\n",
       "      <td>0.0</td>\n",
       "      <td>0.0</td>\n",
       "      <td>0.0</td>\n",
       "    </tr>\n",
       "    <tr>\n",
       "      <th>5453</th>\n",
       "      <td>0.0</td>\n",
       "      <td>1.0</td>\n",
       "      <td>0.0</td>\n",
       "      <td>0.0</td>\n",
       "    </tr>\n",
       "    <tr>\n",
       "      <th>1540</th>\n",
       "      <td>3.0</td>\n",
       "      <td>4.0</td>\n",
       "      <td>3.0</td>\n",
       "      <td>0.0</td>\n",
       "    </tr>\n",
       "    <tr>\n",
       "      <th>32411</th>\n",
       "      <td>3.0</td>\n",
       "      <td>0.0</td>\n",
       "      <td>0.0</td>\n",
       "      <td>0.0</td>\n",
       "    </tr>\n",
       "  </tbody>\n",
       "</table>\n",
       "</div>"
      ],
      "text/plain": [
       "       person_home_ownership  loan_intent  loan_grade  \\\n",
       "2778                     3.0          2.0         0.0   \n",
       "21362                    3.0          0.0         0.0   \n",
       "5453                     0.0          1.0         0.0   \n",
       "1540                     3.0          4.0         3.0   \n",
       "32411                    3.0          0.0         0.0   \n",
       "\n",
       "       cb_person_default_on_file  \n",
       "2778                         0.0  \n",
       "21362                        0.0  \n",
       "5453                         0.0  \n",
       "1540                         0.0  \n",
       "32411                        0.0  "
      ]
     },
     "execution_count": 15,
     "metadata": {},
     "output_type": "execute_result"
    }
   ],
   "source": [
    "from sklearn.preprocessing import OrdinalEncoder\n",
    "\n",
    "ordinal_encoder = OrdinalEncoder()\n",
    "\n",
    "X_train_cat_transformed = pd.DataFrame(ordinal_encoder.fit_transform(X_train_cat), \n",
    "                                     columns=ordinal_encoder.get_feature_names_out(), \n",
    "                                     index = X_train_cat.index)\n",
    "\n",
    "X_train_cat_transformed.head()"
   ]
  },
  {
   "cell_type": "markdown",
   "id": "1a5f28a6",
   "metadata": {},
   "source": [
    "### Concatenate X_train_num_transformed and X_train_cat_transformed"
   ]
  },
  {
   "cell_type": "code",
   "execution_count": 16,
   "id": "e8711dd3",
   "metadata": {
    "scrolled": true
   },
   "outputs": [
    {
     "data": {
      "text/html": [
       "<div>\n",
       "<style scoped>\n",
       "    .dataframe tbody tr th:only-of-type {\n",
       "        vertical-align: middle;\n",
       "    }\n",
       "\n",
       "    .dataframe tbody tr th {\n",
       "        vertical-align: top;\n",
       "    }\n",
       "\n",
       "    .dataframe thead th {\n",
       "        text-align: right;\n",
       "    }\n",
       "</style>\n",
       "<table border=\"1\" class=\"dataframe\">\n",
       "  <thead>\n",
       "    <tr style=\"text-align: right;\">\n",
       "      <th></th>\n",
       "      <th>person_age</th>\n",
       "      <th>person_income</th>\n",
       "      <th>person_emp_length</th>\n",
       "      <th>loan_amnt</th>\n",
       "      <th>loan_int_rate</th>\n",
       "      <th>loan_percent_income</th>\n",
       "      <th>cb_person_cred_hist_length</th>\n",
       "      <th>person_home_ownership</th>\n",
       "      <th>loan_intent</th>\n",
       "      <th>loan_grade</th>\n",
       "      <th>cb_person_default_on_file</th>\n",
       "    </tr>\n",
       "  </thead>\n",
       "  <tbody>\n",
       "    <tr>\n",
       "      <th>2778</th>\n",
       "      <td>-0.627475</td>\n",
       "      <td>-0.093122</td>\n",
       "      <td>-0.118705</td>\n",
       "      <td>0.686069</td>\n",
       "      <td>-0.642377</td>\n",
       "      <td>0.488384</td>\n",
       "      <td>-0.715951</td>\n",
       "      <td>3.0</td>\n",
       "      <td>2.0</td>\n",
       "      <td>0.0</td>\n",
       "      <td>0.0</td>\n",
       "    </tr>\n",
       "    <tr>\n",
       "      <th>21362</th>\n",
       "      <td>0.049362</td>\n",
       "      <td>-1.509330</td>\n",
       "      <td>-1.297761</td>\n",
       "      <td>-0.545711</td>\n",
       "      <td>-1.090839</td>\n",
       "      <td>1.752059</td>\n",
       "      <td>-0.095702</td>\n",
       "      <td>3.0</td>\n",
       "      <td>0.0</td>\n",
       "      <td>0.0</td>\n",
       "      <td>0.0</td>\n",
       "    </tr>\n",
       "    <tr>\n",
       "      <th>5453</th>\n",
       "      <td>-0.627475</td>\n",
       "      <td>-0.503077</td>\n",
       "      <td>0.176058</td>\n",
       "      <td>-0.751008</td>\n",
       "      <td>0.662800</td>\n",
       "      <td>-0.564679</td>\n",
       "      <td>-0.405827</td>\n",
       "      <td>0.0</td>\n",
       "      <td>1.0</td>\n",
       "      <td>0.0</td>\n",
       "      <td>0.0</td>\n",
       "    </tr>\n",
       "    <tr>\n",
       "      <th>1540</th>\n",
       "      <td>-0.853087</td>\n",
       "      <td>-1.062107</td>\n",
       "      <td>-1.002997</td>\n",
       "      <td>-1.479811</td>\n",
       "      <td>1.411267</td>\n",
       "      <td>-1.196517</td>\n",
       "      <td>-0.405827</td>\n",
       "      <td>3.0</td>\n",
       "      <td>4.0</td>\n",
       "      <td>3.0</td>\n",
       "      <td>0.0</td>\n",
       "    </tr>\n",
       "    <tr>\n",
       "      <th>32411</th>\n",
       "      <td>-0.176250</td>\n",
       "      <td>-0.316734</td>\n",
       "      <td>-0.708233</td>\n",
       "      <td>2.328443</td>\n",
       "      <td>-1.084653</td>\n",
       "      <td>2.489203</td>\n",
       "      <td>-0.405827</td>\n",
       "      <td>3.0</td>\n",
       "      <td>0.0</td>\n",
       "      <td>0.0</td>\n",
       "      <td>0.0</td>\n",
       "    </tr>\n",
       "  </tbody>\n",
       "</table>\n",
       "</div>"
      ],
      "text/plain": [
       "       person_age  person_income  person_emp_length  loan_amnt  loan_int_rate  \\\n",
       "2778    -0.627475      -0.093122          -0.118705   0.686069      -0.642377   \n",
       "21362    0.049362      -1.509330          -1.297761  -0.545711      -1.090839   \n",
       "5453    -0.627475      -0.503077           0.176058  -0.751008       0.662800   \n",
       "1540    -0.853087      -1.062107          -1.002997  -1.479811       1.411267   \n",
       "32411   -0.176250      -0.316734          -0.708233   2.328443      -1.084653   \n",
       "\n",
       "       loan_percent_income  cb_person_cred_hist_length  person_home_ownership  \\\n",
       "2778              0.488384                   -0.715951                    3.0   \n",
       "21362             1.752059                   -0.095702                    3.0   \n",
       "5453             -0.564679                   -0.405827                    0.0   \n",
       "1540             -1.196517                   -0.405827                    3.0   \n",
       "32411             2.489203                   -0.405827                    3.0   \n",
       "\n",
       "       loan_intent  loan_grade  cb_person_default_on_file  \n",
       "2778           2.0         0.0                        0.0  \n",
       "21362          0.0         0.0                        0.0  \n",
       "5453           1.0         0.0                        0.0  \n",
       "1540           4.0         3.0                        0.0  \n",
       "32411          0.0         0.0                        0.0  "
      ]
     },
     "execution_count": 16,
     "metadata": {},
     "output_type": "execute_result"
    }
   ],
   "source": [
    "X_train_transformed = pd.concat([X_train_num_transformed, X_train_cat_transformed], axis=1)\n",
    "\n",
    "X_train_transformed.head()"
   ]
  },
  {
   "cell_type": "markdown",
   "id": "1732c95c",
   "metadata": {},
   "source": [
    "### Step 7 - Apply Data Preparation on X_test Data"
   ]
  },
  {
   "cell_type": "code",
   "execution_count": 17,
   "id": "62de1cb0",
   "metadata": {},
   "outputs": [],
   "source": [
    "X_test_cat = X_test.select_dtypes(include=['object'])\n",
    "X_test_num = X_test.select_dtypes(include=['int64', 'float64'])"
   ]
  },
  {
   "cell_type": "markdown",
   "id": "694c7901",
   "metadata": {},
   "source": [
    "### Numerical Feature Transformation: Applying Standardization\n"
   ]
  },
  {
   "cell_type": "code",
   "execution_count": 18,
   "id": "1bc42d3e",
   "metadata": {},
   "outputs": [
    {
     "data": {
      "text/html": [
       "<div>\n",
       "<style scoped>\n",
       "    .dataframe tbody tr th:only-of-type {\n",
       "        vertical-align: middle;\n",
       "    }\n",
       "\n",
       "    .dataframe tbody tr th {\n",
       "        vertical-align: top;\n",
       "    }\n",
       "\n",
       "    .dataframe thead th {\n",
       "        text-align: right;\n",
       "    }\n",
       "</style>\n",
       "<table border=\"1\" class=\"dataframe\">\n",
       "  <thead>\n",
       "    <tr style=\"text-align: right;\">\n",
       "      <th></th>\n",
       "      <th>person_age</th>\n",
       "      <th>person_income</th>\n",
       "      <th>person_emp_length</th>\n",
       "      <th>loan_amnt</th>\n",
       "      <th>loan_int_rate</th>\n",
       "      <th>loan_percent_income</th>\n",
       "      <th>cb_person_cred_hist_length</th>\n",
       "    </tr>\n",
       "  </thead>\n",
       "  <tbody>\n",
       "    <tr>\n",
       "      <th>25189</th>\n",
       "      <td>0.726199</td>\n",
       "      <td>0.055952</td>\n",
       "      <td>-0.118705</td>\n",
       "      <td>0.686069</td>\n",
       "      <td>-0.008345</td>\n",
       "      <td>0.383078</td>\n",
       "      <td>1.454919</td>\n",
       "    </tr>\n",
       "    <tr>\n",
       "      <th>28894</th>\n",
       "      <td>1.177424</td>\n",
       "      <td>-0.685694</td>\n",
       "      <td>-0.413469</td>\n",
       "      <td>-0.304487</td>\n",
       "      <td>0.610222</td>\n",
       "      <td>0.172465</td>\n",
       "      <td>0.214422</td>\n",
       "    </tr>\n",
       "    <tr>\n",
       "      <th>883</th>\n",
       "      <td>-1.078700</td>\n",
       "      <td>-1.741887</td>\n",
       "      <td>-1.297761</td>\n",
       "      <td>-1.572194</td>\n",
       "      <td>0.916413</td>\n",
       "      <td>-0.775292</td>\n",
       "      <td>-0.405827</td>\n",
       "    </tr>\n",
       "    <tr>\n",
       "      <th>13504</th>\n",
       "      <td>-0.627475</td>\n",
       "      <td>-0.316734</td>\n",
       "      <td>-1.297761</td>\n",
       "      <td>0.788717</td>\n",
       "      <td>-0.970218</td>\n",
       "      <td>0.909609</td>\n",
       "      <td>-0.715951</td>\n",
       "    </tr>\n",
       "    <tr>\n",
       "      <th>1814</th>\n",
       "      <td>-1.304312</td>\n",
       "      <td>-1.229816</td>\n",
       "      <td>0.470822</td>\n",
       "      <td>-1.366898</td>\n",
       "      <td>0.758678</td>\n",
       "      <td>-0.880598</td>\n",
       "      <td>-1.026075</td>\n",
       "    </tr>\n",
       "  </tbody>\n",
       "</table>\n",
       "</div>"
      ],
      "text/plain": [
       "       person_age  person_income  person_emp_length  loan_amnt  loan_int_rate  \\\n",
       "25189    0.726199       0.055952          -0.118705   0.686069      -0.008345   \n",
       "28894    1.177424      -0.685694          -0.413469  -0.304487       0.610222   \n",
       "883     -1.078700      -1.741887          -1.297761  -1.572194       0.916413   \n",
       "13504   -0.627475      -0.316734          -1.297761   0.788717      -0.970218   \n",
       "1814    -1.304312      -1.229816           0.470822  -1.366898       0.758678   \n",
       "\n",
       "       loan_percent_income  cb_person_cred_hist_length  \n",
       "25189             0.383078                    1.454919  \n",
       "28894             0.172465                    0.214422  \n",
       "883              -0.775292                   -0.405827  \n",
       "13504             0.909609                   -0.715951  \n",
       "1814             -0.880598                   -1.026075  "
      ]
     },
     "execution_count": 18,
     "metadata": {},
     "output_type": "execute_result"
    }
   ],
   "source": [
    "X_test_num_transformed = pd.DataFrame(std_scaler.transform(X_test_num), \n",
    "                                   columns = std_scaler.get_feature_names_out(), \n",
    "                                   index = X_test_num.index)\n",
    "\n",
    "X_test_num_transformed.head()"
   ]
  },
  {
   "cell_type": "markdown",
   "id": "0841b6a9",
   "metadata": {},
   "source": [
    "### Categorical Feature Transformation: Applying Ordinal Encoding\n"
   ]
  },
  {
   "cell_type": "code",
   "execution_count": 21,
   "id": "d09e5230",
   "metadata": {},
   "outputs": [
    {
     "data": {
      "text/html": [
       "<div>\n",
       "<style scoped>\n",
       "    .dataframe tbody tr th:only-of-type {\n",
       "        vertical-align: middle;\n",
       "    }\n",
       "\n",
       "    .dataframe tbody tr th {\n",
       "        vertical-align: top;\n",
       "    }\n",
       "\n",
       "    .dataframe thead th {\n",
       "        text-align: right;\n",
       "    }\n",
       "</style>\n",
       "<table border=\"1\" class=\"dataframe\">\n",
       "  <thead>\n",
       "    <tr style=\"text-align: right;\">\n",
       "      <th></th>\n",
       "      <th>person_home_ownership</th>\n",
       "      <th>loan_intent</th>\n",
       "      <th>loan_grade</th>\n",
       "      <th>cb_person_default_on_file</th>\n",
       "    </tr>\n",
       "  </thead>\n",
       "  <tbody>\n",
       "    <tr>\n",
       "      <th>25189</th>\n",
       "      <td>3.0</td>\n",
       "      <td>4.0</td>\n",
       "      <td>1.0</td>\n",
       "      <td>0.0</td>\n",
       "    </tr>\n",
       "    <tr>\n",
       "      <th>28894</th>\n",
       "      <td>3.0</td>\n",
       "      <td>3.0</td>\n",
       "      <td>2.0</td>\n",
       "      <td>1.0</td>\n",
       "    </tr>\n",
       "    <tr>\n",
       "      <th>883</th>\n",
       "      <td>3.0</td>\n",
       "      <td>5.0</td>\n",
       "      <td>2.0</td>\n",
       "      <td>0.0</td>\n",
       "    </tr>\n",
       "    <tr>\n",
       "      <th>13504</th>\n",
       "      <td>3.0</td>\n",
       "      <td>0.0</td>\n",
       "      <td>0.0</td>\n",
       "      <td>0.0</td>\n",
       "    </tr>\n",
       "    <tr>\n",
       "      <th>1814</th>\n",
       "      <td>3.0</td>\n",
       "      <td>1.0</td>\n",
       "      <td>2.0</td>\n",
       "      <td>0.0</td>\n",
       "    </tr>\n",
       "  </tbody>\n",
       "</table>\n",
       "</div>"
      ],
      "text/plain": [
       "       person_home_ownership  loan_intent  loan_grade  \\\n",
       "25189                    3.0          4.0         1.0   \n",
       "28894                    3.0          3.0         2.0   \n",
       "883                      3.0          5.0         2.0   \n",
       "13504                    3.0          0.0         0.0   \n",
       "1814                     3.0          1.0         2.0   \n",
       "\n",
       "       cb_person_default_on_file  \n",
       "25189                        0.0  \n",
       "28894                        1.0  \n",
       "883                          0.0  \n",
       "13504                        0.0  \n",
       "1814                         0.0  "
      ]
     },
     "execution_count": 21,
     "metadata": {},
     "output_type": "execute_result"
    }
   ],
   "source": [
    "X_test_cat_transformed = pd.DataFrame(ordinal_encoder.transform(X_test_cat), \n",
    "                                    columns = ordinal_encoder.get_feature_names_out(), \n",
    "                                     index = X_test_cat.index)\n",
    "\n",
    "X_test_cat_transformed.head()"
   ]
  },
  {
   "cell_type": "markdown",
   "id": "80212b75",
   "metadata": {},
   "source": [
    "### Concatenate X_test_num_transformed and X_test_cat_transformed"
   ]
  },
  {
   "cell_type": "code",
   "execution_count": 22,
   "id": "92e84338",
   "metadata": {},
   "outputs": [
    {
     "data": {
      "text/html": [
       "<div>\n",
       "<style scoped>\n",
       "    .dataframe tbody tr th:only-of-type {\n",
       "        vertical-align: middle;\n",
       "    }\n",
       "\n",
       "    .dataframe tbody tr th {\n",
       "        vertical-align: top;\n",
       "    }\n",
       "\n",
       "    .dataframe thead th {\n",
       "        text-align: right;\n",
       "    }\n",
       "</style>\n",
       "<table border=\"1\" class=\"dataframe\">\n",
       "  <thead>\n",
       "    <tr style=\"text-align: right;\">\n",
       "      <th></th>\n",
       "      <th>person_age</th>\n",
       "      <th>person_income</th>\n",
       "      <th>person_emp_length</th>\n",
       "      <th>loan_amnt</th>\n",
       "      <th>loan_int_rate</th>\n",
       "      <th>loan_percent_income</th>\n",
       "      <th>cb_person_cred_hist_length</th>\n",
       "      <th>person_home_ownership</th>\n",
       "      <th>loan_intent</th>\n",
       "      <th>loan_grade</th>\n",
       "      <th>cb_person_default_on_file</th>\n",
       "    </tr>\n",
       "  </thead>\n",
       "  <tbody>\n",
       "    <tr>\n",
       "      <th>25189</th>\n",
       "      <td>0.726199</td>\n",
       "      <td>0.055952</td>\n",
       "      <td>-0.118705</td>\n",
       "      <td>0.686069</td>\n",
       "      <td>-0.008345</td>\n",
       "      <td>0.383078</td>\n",
       "      <td>1.454919</td>\n",
       "      <td>3.0</td>\n",
       "      <td>4.0</td>\n",
       "      <td>1.0</td>\n",
       "      <td>0.0</td>\n",
       "    </tr>\n",
       "    <tr>\n",
       "      <th>28894</th>\n",
       "      <td>1.177424</td>\n",
       "      <td>-0.685694</td>\n",
       "      <td>-0.413469</td>\n",
       "      <td>-0.304487</td>\n",
       "      <td>0.610222</td>\n",
       "      <td>0.172465</td>\n",
       "      <td>0.214422</td>\n",
       "      <td>3.0</td>\n",
       "      <td>3.0</td>\n",
       "      <td>2.0</td>\n",
       "      <td>1.0</td>\n",
       "    </tr>\n",
       "    <tr>\n",
       "      <th>883</th>\n",
       "      <td>-1.078700</td>\n",
       "      <td>-1.741887</td>\n",
       "      <td>-1.297761</td>\n",
       "      <td>-1.572194</td>\n",
       "      <td>0.916413</td>\n",
       "      <td>-0.775292</td>\n",
       "      <td>-0.405827</td>\n",
       "      <td>3.0</td>\n",
       "      <td>5.0</td>\n",
       "      <td>2.0</td>\n",
       "      <td>0.0</td>\n",
       "    </tr>\n",
       "    <tr>\n",
       "      <th>13504</th>\n",
       "      <td>-0.627475</td>\n",
       "      <td>-0.316734</td>\n",
       "      <td>-1.297761</td>\n",
       "      <td>0.788717</td>\n",
       "      <td>-0.970218</td>\n",
       "      <td>0.909609</td>\n",
       "      <td>-0.715951</td>\n",
       "      <td>3.0</td>\n",
       "      <td>0.0</td>\n",
       "      <td>0.0</td>\n",
       "      <td>0.0</td>\n",
       "    </tr>\n",
       "    <tr>\n",
       "      <th>1814</th>\n",
       "      <td>-1.304312</td>\n",
       "      <td>-1.229816</td>\n",
       "      <td>0.470822</td>\n",
       "      <td>-1.366898</td>\n",
       "      <td>0.758678</td>\n",
       "      <td>-0.880598</td>\n",
       "      <td>-1.026075</td>\n",
       "      <td>3.0</td>\n",
       "      <td>1.0</td>\n",
       "      <td>2.0</td>\n",
       "      <td>0.0</td>\n",
       "    </tr>\n",
       "  </tbody>\n",
       "</table>\n",
       "</div>"
      ],
      "text/plain": [
       "       person_age  person_income  person_emp_length  loan_amnt  loan_int_rate  \\\n",
       "25189    0.726199       0.055952          -0.118705   0.686069      -0.008345   \n",
       "28894    1.177424      -0.685694          -0.413469  -0.304487       0.610222   \n",
       "883     -1.078700      -1.741887          -1.297761  -1.572194       0.916413   \n",
       "13504   -0.627475      -0.316734          -1.297761   0.788717      -0.970218   \n",
       "1814    -1.304312      -1.229816           0.470822  -1.366898       0.758678   \n",
       "\n",
       "       loan_percent_income  cb_person_cred_hist_length  person_home_ownership  \\\n",
       "25189             0.383078                    1.454919                    3.0   \n",
       "28894             0.172465                    0.214422                    3.0   \n",
       "883              -0.775292                   -0.405827                    3.0   \n",
       "13504             0.909609                   -0.715951                    3.0   \n",
       "1814             -0.880598                   -1.026075                    3.0   \n",
       "\n",
       "       loan_intent  loan_grade  cb_person_default_on_file  \n",
       "25189          4.0         1.0                        0.0  \n",
       "28894          3.0         2.0                        1.0  \n",
       "883            5.0         2.0                        0.0  \n",
       "13504          0.0         0.0                        0.0  \n",
       "1814           1.0         2.0                        0.0  "
      ]
     },
     "execution_count": 22,
     "metadata": {},
     "output_type": "execute_result"
    }
   ],
   "source": [
    "X_test_transformed = pd.concat([X_test_num_transformed, X_test_cat_transformed], axis=1)\n",
    "\n",
    "X_test_transformed.head()"
   ]
  },
  {
   "cell_type": "code",
   "execution_count": 23,
   "id": "d4f3c1ff",
   "metadata": {},
   "outputs": [],
   "source": [
    "from sklearn import metrics"
   ]
  },
  {
   "cell_type": "markdown",
   "id": "6196f13d",
   "metadata": {},
   "source": [
    "### Logistic Regression"
   ]
  },
  {
   "cell_type": "code",
   "execution_count": 26,
   "id": "e8e45c3a",
   "metadata": {},
   "outputs": [
    {
     "name": "stdout",
     "output_type": "stream",
     "text": [
      "Accuracy of Logistic Regression 0.841248303934871\n",
      "F1 score 0.5434551259311813\n",
      "\n",
      "CPU times: total: 156 ms\n",
      "Wall time: 99.8 ms\n"
     ]
    }
   ],
   "source": [
    "%%time\n",
    "\n",
    "from sklearn.linear_model import LogisticRegression\n",
    "\n",
    "regressor = LogisticRegression()\n",
    "regressor.fit(X_train_transformed, y_train)\n",
    "\n",
    "y_test_pred = regressor.predict(X_test_transformed)\n",
    "\n",
    "print('Accuracy of Logistic Regression',metrics.accuracy_score(y_test, y_test_pred))\n",
    "print('F1 score',metrics.f1_score(y_test, y_test_pred))\n",
    "print()"
   ]
  },
  {
   "cell_type": "code",
   "execution_count": 27,
   "id": "1f816b35",
   "metadata": {},
   "outputs": [],
   "source": [
    "output_df_lgr = pd.DataFrame({'Actual': y_test})"
   ]
  },
  {
   "cell_type": "code",
   "execution_count": 28,
   "id": "9475d751",
   "metadata": {},
   "outputs": [
    {
     "data": {
      "text/html": [
       "<div>\n",
       "<style scoped>\n",
       "    .dataframe tbody tr th:only-of-type {\n",
       "        vertical-align: middle;\n",
       "    }\n",
       "\n",
       "    .dataframe tbody tr th {\n",
       "        vertical-align: top;\n",
       "    }\n",
       "\n",
       "    .dataframe thead th {\n",
       "        text-align: right;\n",
       "    }\n",
       "</style>\n",
       "<table border=\"1\" class=\"dataframe\">\n",
       "  <thead>\n",
       "    <tr style=\"text-align: right;\">\n",
       "      <th></th>\n",
       "      <th>Actual</th>\n",
       "      <th>Logistic Regression Predictions</th>\n",
       "    </tr>\n",
       "  </thead>\n",
       "  <tbody>\n",
       "    <tr>\n",
       "      <th>25189</th>\n",
       "      <td>0</td>\n",
       "      <td>0</td>\n",
       "    </tr>\n",
       "    <tr>\n",
       "      <th>28894</th>\n",
       "      <td>0</td>\n",
       "      <td>0</td>\n",
       "    </tr>\n",
       "    <tr>\n",
       "      <th>883</th>\n",
       "      <td>0</td>\n",
       "      <td>0</td>\n",
       "    </tr>\n",
       "    <tr>\n",
       "      <th>13504</th>\n",
       "      <td>0</td>\n",
       "      <td>0</td>\n",
       "    </tr>\n",
       "    <tr>\n",
       "      <th>1814</th>\n",
       "      <td>0</td>\n",
       "      <td>0</td>\n",
       "    </tr>\n",
       "    <tr>\n",
       "      <th>...</th>\n",
       "      <td>...</td>\n",
       "      <td>...</td>\n",
       "    </tr>\n",
       "    <tr>\n",
       "      <th>20843</th>\n",
       "      <td>0</td>\n",
       "      <td>0</td>\n",
       "    </tr>\n",
       "    <tr>\n",
       "      <th>11919</th>\n",
       "      <td>1</td>\n",
       "      <td>1</td>\n",
       "    </tr>\n",
       "    <tr>\n",
       "      <th>26072</th>\n",
       "      <td>0</td>\n",
       "      <td>0</td>\n",
       "    </tr>\n",
       "    <tr>\n",
       "      <th>9758</th>\n",
       "      <td>0</td>\n",
       "      <td>0</td>\n",
       "    </tr>\n",
       "    <tr>\n",
       "      <th>8330</th>\n",
       "      <td>0</td>\n",
       "      <td>0</td>\n",
       "    </tr>\n",
       "  </tbody>\n",
       "</table>\n",
       "<p>8107 rows × 2 columns</p>\n",
       "</div>"
      ],
      "text/plain": [
       "       Actual  Logistic Regression Predictions\n",
       "25189       0                                0\n",
       "28894       0                                0\n",
       "883         0                                0\n",
       "13504       0                                0\n",
       "1814        0                                0\n",
       "...       ...                              ...\n",
       "20843       0                                0\n",
       "11919       1                                1\n",
       "26072       0                                0\n",
       "9758        0                                0\n",
       "8330        0                                0\n",
       "\n",
       "[8107 rows x 2 columns]"
      ]
     },
     "execution_count": 28,
     "metadata": {},
     "output_type": "execute_result"
    }
   ],
   "source": [
    "output_df_lgr['Logistic Regression Predictions'] = y_test_pred\n",
    "\n",
    "output_df_lgr"
   ]
  },
  {
   "cell_type": "code",
   "execution_count": 30,
   "id": "880bbe00",
   "metadata": {},
   "outputs": [
    {
     "name": "stderr",
     "output_type": "stream",
     "text": [
      "C:\\Users\\DELL\\AppData\\Local\\Temp\\ipykernel_18928\\2340808049.py:2: UserWarning: Ignoring `palette` because no `hue` variable has been assigned.\n",
      "  sns.histplot(output_df_lgr['Actual'],palette='pastel',label=\"actual\")\n",
      "C:\\Users\\DELL\\AppData\\Local\\Temp\\ipykernel_18928\\2340808049.py:3: UserWarning: Ignoring `palette` because no `hue` variable has been assigned.\n",
      "  sns.histplot(output_df_lgr['Logistic Regression Predictions'],palette='pastel',label=\"prediction\", binwidth=0.1, shrink=0.8)\n"
     ]
    },
    {
     "data": {
      "text/plain": [
       "<matplotlib.legend.Legend at 0x238f2a3fe90>"
      ]
     },
     "execution_count": 30,
     "metadata": {},
     "output_type": "execute_result"
    },
    {
     "data": {
      "image/png": "[encoded data removed]",
      "text/plain": [
       "<Figure size 800x300 with 1 Axes>"
      ]
     },
     "metadata": {},
     "output_type": "display_data"
    }
   ],
   "source": [
    "fig, (ax1) = plt.subplots(1, figsize=(8, 3))\n",
    "sns.histplot(output_df_lgr['Actual'],palette='pastel',label=\"actual\")\n",
    "sns.histplot(output_df_lgr['Logistic Regression Predictions'],palette='pastel',label=\"prediction\", binwidth=0.1, shrink=0.8)\n",
    "plt.xlabel('Loan Status')\n",
    "plt.ylabel('No of Customers')\n",
    "plt.title('Logistic Regression')\n",
    "plt.xticks([0, 1])  \n",
    "plt.legend()"
   ]
  },
  {
   "cell_type": "markdown",
   "id": "6f5ed76c",
   "metadata": {},
   "source": [
    "### KNN Classifier"
   ]
  },
  {
   "cell_type": "code",
   "execution_count": 32,
   "id": "2ceaf43a",
   "metadata": {},
   "outputs": [
    {
     "name": "stdout",
     "output_type": "stream",
     "text": [
      "Accuracy Score 0.8847909214259282\n",
      "F1 score 0.6872069658405894\n",
      "CPU times: total: 2.5 s\n",
      "Wall time: 2.66 s\n"
     ]
    }
   ],
   "source": [
    "%%time\n",
    "\n",
    "from sklearn.neighbors import KNeighborsClassifier\n",
    "\n",
    "classifier = KNeighborsClassifier()\n",
    "\n",
    "classifier.fit(X_train_transformed, y_train)\n",
    "\n",
    "y_test_pred = classifier.predict(X_test_transformed)\n",
    "\n",
    "print('Accuracy Score',metrics.accuracy_score(y_test, y_test_pred))\n",
    "print('F1 score',metrics.f1_score(y_test, y_test_pred))"
   ]
  },
  {
   "cell_type": "code",
   "execution_count": 33,
   "id": "0e9d4297",
   "metadata": {},
   "outputs": [],
   "source": [
    "output_df_knn = pd.DataFrame({'Actual': y_test})"
   ]
  },
  {
   "cell_type": "code",
   "execution_count": 34,
   "id": "5b0bc8de",
   "metadata": {},
   "outputs": [
    {
     "data": {
      "text/html": [
       "<div>\n",
       "<style scoped>\n",
       "    .dataframe tbody tr th:only-of-type {\n",
       "        vertical-align: middle;\n",
       "    }\n",
       "\n",
       "    .dataframe tbody tr th {\n",
       "        vertical-align: top;\n",
       "    }\n",
       "\n",
       "    .dataframe thead th {\n",
       "        text-align: right;\n",
       "    }\n",
       "</style>\n",
       "<table border=\"1\" class=\"dataframe\">\n",
       "  <thead>\n",
       "    <tr style=\"text-align: right;\">\n",
       "      <th></th>\n",
       "      <th>Actual</th>\n",
       "      <th>knn classifier</th>\n",
       "    </tr>\n",
       "  </thead>\n",
       "  <tbody>\n",
       "    <tr>\n",
       "      <th>25189</th>\n",
       "      <td>0</td>\n",
       "      <td>0</td>\n",
       "    </tr>\n",
       "    <tr>\n",
       "      <th>28894</th>\n",
       "      <td>0</td>\n",
       "      <td>0</td>\n",
       "    </tr>\n",
       "    <tr>\n",
       "      <th>883</th>\n",
       "      <td>0</td>\n",
       "      <td>0</td>\n",
       "    </tr>\n",
       "    <tr>\n",
       "      <th>13504</th>\n",
       "      <td>0</td>\n",
       "      <td>0</td>\n",
       "    </tr>\n",
       "    <tr>\n",
       "      <th>1814</th>\n",
       "      <td>0</td>\n",
       "      <td>0</td>\n",
       "    </tr>\n",
       "    <tr>\n",
       "      <th>...</th>\n",
       "      <td>...</td>\n",
       "      <td>...</td>\n",
       "    </tr>\n",
       "    <tr>\n",
       "      <th>20843</th>\n",
       "      <td>0</td>\n",
       "      <td>0</td>\n",
       "    </tr>\n",
       "    <tr>\n",
       "      <th>11919</th>\n",
       "      <td>1</td>\n",
       "      <td>1</td>\n",
       "    </tr>\n",
       "    <tr>\n",
       "      <th>26072</th>\n",
       "      <td>0</td>\n",
       "      <td>0</td>\n",
       "    </tr>\n",
       "    <tr>\n",
       "      <th>9758</th>\n",
       "      <td>0</td>\n",
       "      <td>0</td>\n",
       "    </tr>\n",
       "    <tr>\n",
       "      <th>8330</th>\n",
       "      <td>0</td>\n",
       "      <td>0</td>\n",
       "    </tr>\n",
       "  </tbody>\n",
       "</table>\n",
       "<p>8107 rows × 2 columns</p>\n",
       "</div>"
      ],
      "text/plain": [
       "       Actual  knn classifier\n",
       "25189       0               0\n",
       "28894       0               0\n",
       "883         0               0\n",
       "13504       0               0\n",
       "1814        0               0\n",
       "...       ...             ...\n",
       "20843       0               0\n",
       "11919       1               1\n",
       "26072       0               0\n",
       "9758        0               0\n",
       "8330        0               0\n",
       "\n",
       "[8107 rows x 2 columns]"
      ]
     },
     "execution_count": 34,
     "metadata": {},
     "output_type": "execute_result"
    }
   ],
   "source": [
    "output_df_knn['knn classifier'] = y_test_pred\n",
    "\n",
    "output_df_knn"
   ]
  },
  {
   "cell_type": "code",
   "execution_count": 35,
   "id": "83fd4ee6",
   "metadata": {},
   "outputs": [
    {
     "name": "stderr",
     "output_type": "stream",
     "text": [
      "C:\\Users\\DELL\\AppData\\Local\\Temp\\ipykernel_18928\\764719235.py:2: UserWarning: Ignoring `palette` because no `hue` variable has been assigned.\n",
      "  sns.histplot(output_df_knn['Actual'],palette='pastel',label=\"actual\")\n",
      "C:\\Users\\DELL\\AppData\\Local\\Temp\\ipykernel_18928\\764719235.py:3: UserWarning: Ignoring `palette` because no `hue` variable has been assigned.\n",
      "  sns.histplot(output_df_knn['knn classifier'],palette='pastel',label=\"prediction\", binwidth=0.1, shrink=0.8)\n"
     ]
    },
    {
     "data": {
      "text/plain": [
       "<matplotlib.legend.Legend at 0x238f2b3fe50>"
      ]
     },
     "execution_count": 35,
     "metadata": {},
     "output_type": "execute_result"
    },
    {
     "data": {
      "image/png": "[encoded data removed]",
      "text/plain": [
       "<Figure size 800x300 with 1 Axes>"
      ]
     },
     "metadata": {},
     "output_type": "display_data"
    }
   ],
   "source": [
    "fig, (ax1) = plt.subplots(1, figsize=(8, 3))\n",
    "sns.histplot(output_df_knn['Actual'],palette='pastel',label=\"actual\")\n",
    "sns.histplot(output_df_knn['knn classifier'],palette='pastel',label=\"prediction\", binwidth=0.1, shrink=0.8)\n",
    "plt.xlabel('Loan Status')\n",
    "plt.ylabel('No of Customers')\n",
    "plt.title('K-Nearest Neighbour Classifier')\n",
    "plt.xticks([0, 1])  \n",
    "plt.legend()"
   ]
  },
  {
   "cell_type": "markdown",
   "id": "a70fcc9f",
   "metadata": {},
   "source": [
    "### Using DT Classifier Algorithm"
   ]
  },
  {
   "cell_type": "code",
   "execution_count": 36,
   "id": "aefcee5b",
   "metadata": {},
   "outputs": [
    {
     "name": "stdout",
     "output_type": "stream",
     "text": [
      "Accuracy Score 0.890341680029604\n",
      "F1 score 0.7447602641401092\n",
      "CPU times: total: 297 ms\n",
      "Wall time: 622 ms\n"
     ]
    }
   ],
   "source": [
    "%%time \n",
    "\n",
    "from sklearn.tree import DecisionTreeClassifier\n",
    "\n",
    "\n",
    "classifier = DecisionTreeClassifier()\n",
    "\n",
    "\n",
    "classifier.fit(X_train_transformed, y_train)\n",
    "\n",
    "\n",
    "y_test_pred = classifier.predict(X_test_transformed)\n",
    "\n",
    "\n",
    "print('Accuracy Score',metrics.accuracy_score(y_test, y_test_pred))\n",
    "print('F1 score',metrics.f1_score(y_test, y_test_pred))"
   ]
  },
  {
   "cell_type": "code",
   "execution_count": 37,
   "id": "2c83bd78",
   "metadata": {},
   "outputs": [],
   "source": [
    "output_df_dt = pd.DataFrame({'Actual': y_test})"
   ]
  },
  {
   "cell_type": "code",
   "execution_count": 38,
   "id": "4dd8596b",
   "metadata": {},
   "outputs": [
    {
     "data": {
      "text/html": [
       "<div>\n",
       "<style scoped>\n",
       "    .dataframe tbody tr th:only-of-type {\n",
       "        vertical-align: middle;\n",
       "    }\n",
       "\n",
       "    .dataframe tbody tr th {\n",
       "        vertical-align: top;\n",
       "    }\n",
       "\n",
       "    .dataframe thead th {\n",
       "        text-align: right;\n",
       "    }\n",
       "</style>\n",
       "<table border=\"1\" class=\"dataframe\">\n",
       "  <thead>\n",
       "    <tr style=\"text-align: right;\">\n",
       "      <th></th>\n",
       "      <th>Actual</th>\n",
       "      <th>dt classifier</th>\n",
       "    </tr>\n",
       "  </thead>\n",
       "  <tbody>\n",
       "    <tr>\n",
       "      <th>25189</th>\n",
       "      <td>0</td>\n",
       "      <td>0</td>\n",
       "    </tr>\n",
       "    <tr>\n",
       "      <th>28894</th>\n",
       "      <td>0</td>\n",
       "      <td>0</td>\n",
       "    </tr>\n",
       "    <tr>\n",
       "      <th>883</th>\n",
       "      <td>0</td>\n",
       "      <td>1</td>\n",
       "    </tr>\n",
       "    <tr>\n",
       "      <th>13504</th>\n",
       "      <td>0</td>\n",
       "      <td>0</td>\n",
       "    </tr>\n",
       "    <tr>\n",
       "      <th>1814</th>\n",
       "      <td>0</td>\n",
       "      <td>0</td>\n",
       "    </tr>\n",
       "    <tr>\n",
       "      <th>...</th>\n",
       "      <td>...</td>\n",
       "      <td>...</td>\n",
       "    </tr>\n",
       "    <tr>\n",
       "      <th>20843</th>\n",
       "      <td>0</td>\n",
       "      <td>0</td>\n",
       "    </tr>\n",
       "    <tr>\n",
       "      <th>11919</th>\n",
       "      <td>1</td>\n",
       "      <td>1</td>\n",
       "    </tr>\n",
       "    <tr>\n",
       "      <th>26072</th>\n",
       "      <td>0</td>\n",
       "      <td>0</td>\n",
       "    </tr>\n",
       "    <tr>\n",
       "      <th>9758</th>\n",
       "      <td>0</td>\n",
       "      <td>0</td>\n",
       "    </tr>\n",
       "    <tr>\n",
       "      <th>8330</th>\n",
       "      <td>0</td>\n",
       "      <td>0</td>\n",
       "    </tr>\n",
       "  </tbody>\n",
       "</table>\n",
       "<p>8107 rows × 2 columns</p>\n",
       "</div>"
      ],
      "text/plain": [
       "       Actual  dt classifier\n",
       "25189       0              0\n",
       "28894       0              0\n",
       "883         0              1\n",
       "13504       0              0\n",
       "1814        0              0\n",
       "...       ...            ...\n",
       "20843       0              0\n",
       "11919       1              1\n",
       "26072       0              0\n",
       "9758        0              0\n",
       "8330        0              0\n",
       "\n",
       "[8107 rows x 2 columns]"
      ]
     },
     "execution_count": 38,
     "metadata": {},
     "output_type": "execute_result"
    }
   ],
   "source": [
    "output_df_dt['dt classifier'] = y_test_pred\n",
    "\n",
    "output_df_dt"
   ]
  },
  {
   "cell_type": "code",
   "execution_count": 39,
   "id": "bb4ff42c",
   "metadata": {},
   "outputs": [
    {
     "name": "stderr",
     "output_type": "stream",
     "text": [
      "C:\\Users\\DELL\\AppData\\Local\\Temp\\ipykernel_18928\\1311411035.py:2: UserWarning: Ignoring `palette` because no `hue` variable has been assigned.\n",
      "  sns.histplot(output_df_dt['Actual'],palette='pastel',label=\"actual\")\n",
      "C:\\Users\\DELL\\AppData\\Local\\Temp\\ipykernel_18928\\1311411035.py:3: UserWarning: Ignoring `palette` because no `hue` variable has been assigned.\n",
      "  sns.histplot(output_df_dt['dt classifier'],palette='pastel',label=\"prediction\", binwidth=0.1, shrink=0.8)\n"
     ]
    },
    {
     "data": {
      "text/plain": [
       "<matplotlib.legend.Legend at 0x238f2a54490>"
      ]
     },
     "execution_count": 39,
     "metadata": {},
     "output_type": "execute_result"
    },
    {
     "data": {
      "image/png": "[encoded data removed]",
      "text/plain": [
       "<Figure size 800x300 with 1 Axes>"
      ]
     },
     "metadata": {},
     "output_type": "display_data"
    }
   ],
   "source": [
    "fig, (ax1) = plt.subplots(1, figsize=(8, 3))\n",
    "sns.histplot(output_df_dt['Actual'],palette='pastel',label=\"actual\")\n",
    "sns.histplot(output_df_dt['dt classifier'],palette='pastel',label=\"prediction\", binwidth=0.1, shrink=0.8)\n",
    "plt.xlabel('Loan Status')\n",
    "plt.ylabel('No of Customers')\n",
    "plt.title('Decision Tree')\n",
    "plt.xticks([0, 1])  \n",
    "plt.legend()"
   ]
  },
  {
   "cell_type": "markdown",
   "id": "a1863488",
   "metadata": {},
   "source": [
    "### Using Random Forest Classifier Algorithm"
   ]
  },
  {
   "cell_type": "code",
   "execution_count": 40,
   "id": "9f65d2eb",
   "metadata": {},
   "outputs": [
    {
     "name": "stdout",
     "output_type": "stream",
     "text": [
      "Accuracy Score 0.9290736400641421\n",
      "F1 score 0.806070826306914\n",
      "CPU times: total: 7.52 s\n",
      "Wall time: 8.71 s\n"
     ]
    }
   ],
   "source": [
    "%%time \n",
    "\n",
    "from sklearn.ensemble import RandomForestClassifier\n",
    "\n",
    "\n",
    "classifier = RandomForestClassifier()\n",
    "\n",
    "\n",
    "classifier.fit(X_train_transformed, y_train)\n",
    "\n",
    "\n",
    "y_test_pred = classifier.predict(X_test_transformed)\n",
    "\n",
    "\n",
    "print('Accuracy Score',metrics.accuracy_score(y_test, y_test_pred))\n",
    "print('F1 score',metrics.f1_score(y_test, y_test_pred))"
   ]
  },
  {
   "cell_type": "code",
   "execution_count": 41,
   "id": "01f3e95d",
   "metadata": {},
   "outputs": [],
   "source": [
    "output_df_rf = pd.DataFrame({'Actual': y_test})"
   ]
  },
  {
   "cell_type": "code",
   "execution_count": 42,
   "id": "93093c80",
   "metadata": {},
   "outputs": [
    {
     "data": {
      "text/html": [
       "<div>\n",
       "<style scoped>\n",
       "    .dataframe tbody tr th:only-of-type {\n",
       "        vertical-align: middle;\n",
       "    }\n",
       "\n",
       "    .dataframe tbody tr th {\n",
       "        vertical-align: top;\n",
       "    }\n",
       "\n",
       "    .dataframe thead th {\n",
       "        text-align: right;\n",
       "    }\n",
       "</style>\n",
       "<table border=\"1\" class=\"dataframe\">\n",
       "  <thead>\n",
       "    <tr style=\"text-align: right;\">\n",
       "      <th></th>\n",
       "      <th>Actual</th>\n",
       "      <th>rf classifier</th>\n",
       "    </tr>\n",
       "  </thead>\n",
       "  <tbody>\n",
       "    <tr>\n",
       "      <th>25189</th>\n",
       "      <td>0</td>\n",
       "      <td>0</td>\n",
       "    </tr>\n",
       "    <tr>\n",
       "      <th>28894</th>\n",
       "      <td>0</td>\n",
       "      <td>0</td>\n",
       "    </tr>\n",
       "    <tr>\n",
       "      <th>883</th>\n",
       "      <td>0</td>\n",
       "      <td>1</td>\n",
       "    </tr>\n",
       "    <tr>\n",
       "      <th>13504</th>\n",
       "      <td>0</td>\n",
       "      <td>0</td>\n",
       "    </tr>\n",
       "    <tr>\n",
       "      <th>1814</th>\n",
       "      <td>0</td>\n",
       "      <td>0</td>\n",
       "    </tr>\n",
       "    <tr>\n",
       "      <th>...</th>\n",
       "      <td>...</td>\n",
       "      <td>...</td>\n",
       "    </tr>\n",
       "    <tr>\n",
       "      <th>20843</th>\n",
       "      <td>0</td>\n",
       "      <td>0</td>\n",
       "    </tr>\n",
       "    <tr>\n",
       "      <th>11919</th>\n",
       "      <td>1</td>\n",
       "      <td>1</td>\n",
       "    </tr>\n",
       "    <tr>\n",
       "      <th>26072</th>\n",
       "      <td>0</td>\n",
       "      <td>0</td>\n",
       "    </tr>\n",
       "    <tr>\n",
       "      <th>9758</th>\n",
       "      <td>0</td>\n",
       "      <td>0</td>\n",
       "    </tr>\n",
       "    <tr>\n",
       "      <th>8330</th>\n",
       "      <td>0</td>\n",
       "      <td>0</td>\n",
       "    </tr>\n",
       "  </tbody>\n",
       "</table>\n",
       "<p>8107 rows × 2 columns</p>\n",
       "</div>"
      ],
      "text/plain": [
       "       Actual  rf classifier\n",
       "25189       0              0\n",
       "28894       0              0\n",
       "883         0              1\n",
       "13504       0              0\n",
       "1814        0              0\n",
       "...       ...            ...\n",
       "20843       0              0\n",
       "11919       1              1\n",
       "26072       0              0\n",
       "9758        0              0\n",
       "8330        0              0\n",
       "\n",
       "[8107 rows x 2 columns]"
      ]
     },
     "execution_count": 42,
     "metadata": {},
     "output_type": "execute_result"
    }
   ],
   "source": [
    "output_df_rf['rf classifier'] = y_test_pred\n",
    "\n",
    "output_df_rf"
   ]
  },
  {
   "cell_type": "code",
   "execution_count": 43,
   "id": "b979cd72",
   "metadata": {},
   "outputs": [
    {
     "name": "stderr",
     "output_type": "stream",
     "text": [
      "C:\\Users\\DELL\\AppData\\Local\\Temp\\ipykernel_18928\\4164339598.py:2: UserWarning: Ignoring `palette` because no `hue` variable has been assigned.\n",
      "  sns.histplot(output_df_rf['Actual'],palette='pastel',label=\"actual\")\n",
      "C:\\Users\\DELL\\AppData\\Local\\Temp\\ipykernel_18928\\4164339598.py:3: UserWarning: Ignoring `palette` because no `hue` variable has been assigned.\n",
      "  sns.histplot(output_df_rf['rf classifier'],palette='pastel',label=\"prediction\", binwidth=0.1, shrink=0.8)\n"
     ]
    },
    {
     "data": {
      "text/plain": [
       "<matplotlib.legend.Legend at 0x238f2f9c590>"
      ]
     },
     "execution_count": 43,
     "metadata": {},
     "output_type": "execute_result"
    },
    {
     "data": {
      "image/png": "[encoded data removed]",
      "text/plain": [
       "<Figure size 800x300 with 1 Axes>"
      ]
     },
     "metadata": {},
     "output_type": "display_data"
    }
   ],
   "source": [
    "fig, (ax1) = plt.subplots(1, figsize=(8, 3))\n",
    "sns.histplot(output_df_rf['Actual'],palette='pastel',label=\"actual\")\n",
    "sns.histplot(output_df_rf['rf classifier'],palette='pastel',label=\"prediction\", binwidth=0.1, shrink=0.8)\n",
    "plt.xlabel('Loan Status')\n",
    "plt.ylabel('No of Customers')\n",
    "plt.title('Random Forest Classifier')\n",
    "plt.xticks([0, 1])  \n",
    "plt.legend()"
   ]
  },
  {
   "cell_type": "markdown",
   "id": "d5017645",
   "metadata": {},
   "source": [
    "### svm"
   ]
  },
  {
   "cell_type": "code",
   "execution_count": 44,
   "id": "ff7bb9a1",
   "metadata": {},
   "outputs": [
    {
     "name": "stdout",
     "output_type": "stream",
     "text": [
      "Accuracy Score 0.8435919575675342\n",
      "F1 score 0.5293244246473645\n",
      "CPU times: total: 35.7 s\n",
      "Wall time: 39.2 s\n"
     ]
    }
   ],
   "source": [
    "%%time\n",
    "\n",
    "from sklearn import svm\n",
    "\n",
    "\n",
    "SVM = svm.SVC(kernel='linear')\n",
    "\n",
    "\n",
    "SVM.fit(X_train_transformed, y_train)\n",
    "\n",
    "\n",
    "y_test_pred = SVM.predict(X_test_transformed)\n",
    "\n",
    "\n",
    "print('Accuracy Score',metrics.accuracy_score(y_test, y_test_pred))\n",
    "print('F1 score',metrics.f1_score(y_test, y_test_pred))"
   ]
  },
  {
   "cell_type": "code",
   "execution_count": 45,
   "id": "d9ff65aa",
   "metadata": {},
   "outputs": [],
   "source": [
    "output_df_svm = pd.DataFrame({'Actual': y_test})"
   ]
  },
  {
   "cell_type": "code",
   "execution_count": 46,
   "id": "00be2577",
   "metadata": {},
   "outputs": [
    {
     "data": {
      "text/html": [
       "<div>\n",
       "<style scoped>\n",
       "    .dataframe tbody tr th:only-of-type {\n",
       "        vertical-align: middle;\n",
       "    }\n",
       "\n",
       "    .dataframe tbody tr th {\n",
       "        vertical-align: top;\n",
       "    }\n",
       "\n",
       "    .dataframe thead th {\n",
       "        text-align: right;\n",
       "    }\n",
       "</style>\n",
       "<table border=\"1\" class=\"dataframe\">\n",
       "  <thead>\n",
       "    <tr style=\"text-align: right;\">\n",
       "      <th></th>\n",
       "      <th>Actual</th>\n",
       "      <th>svm classifier</th>\n",
       "    </tr>\n",
       "  </thead>\n",
       "  <tbody>\n",
       "    <tr>\n",
       "      <th>25189</th>\n",
       "      <td>0</td>\n",
       "      <td>0</td>\n",
       "    </tr>\n",
       "    <tr>\n",
       "      <th>28894</th>\n",
       "      <td>0</td>\n",
       "      <td>0</td>\n",
       "    </tr>\n",
       "    <tr>\n",
       "      <th>883</th>\n",
       "      <td>0</td>\n",
       "      <td>0</td>\n",
       "    </tr>\n",
       "    <tr>\n",
       "      <th>13504</th>\n",
       "      <td>0</td>\n",
       "      <td>0</td>\n",
       "    </tr>\n",
       "    <tr>\n",
       "      <th>1814</th>\n",
       "      <td>0</td>\n",
       "      <td>0</td>\n",
       "    </tr>\n",
       "    <tr>\n",
       "      <th>...</th>\n",
       "      <td>...</td>\n",
       "      <td>...</td>\n",
       "    </tr>\n",
       "    <tr>\n",
       "      <th>20843</th>\n",
       "      <td>0</td>\n",
       "      <td>0</td>\n",
       "    </tr>\n",
       "    <tr>\n",
       "      <th>11919</th>\n",
       "      <td>1</td>\n",
       "      <td>1</td>\n",
       "    </tr>\n",
       "    <tr>\n",
       "      <th>26072</th>\n",
       "      <td>0</td>\n",
       "      <td>0</td>\n",
       "    </tr>\n",
       "    <tr>\n",
       "      <th>9758</th>\n",
       "      <td>0</td>\n",
       "      <td>0</td>\n",
       "    </tr>\n",
       "    <tr>\n",
       "      <th>8330</th>\n",
       "      <td>0</td>\n",
       "      <td>0</td>\n",
       "    </tr>\n",
       "  </tbody>\n",
       "</table>\n",
       "<p>8107 rows × 2 columns</p>\n",
       "</div>"
      ],
      "text/plain": [
       "       Actual  svm classifier\n",
       "25189       0               0\n",
       "28894       0               0\n",
       "883         0               0\n",
       "13504       0               0\n",
       "1814        0               0\n",
       "...       ...             ...\n",
       "20843       0               0\n",
       "11919       1               1\n",
       "26072       0               0\n",
       "9758        0               0\n",
       "8330        0               0\n",
       "\n",
       "[8107 rows x 2 columns]"
      ]
     },
     "execution_count": 46,
     "metadata": {},
     "output_type": "execute_result"
    }
   ],
   "source": [
    "output_df_svm['svm classifier'] = y_test_pred\n",
    "\n",
    "output_df_svm"
   ]
  },
  {
   "cell_type": "code",
   "execution_count": 47,
   "id": "6b96d0cd",
   "metadata": {},
   "outputs": [
    {
     "name": "stderr",
     "output_type": "stream",
     "text": [
      "C:\\Users\\DELL\\AppData\\Local\\Temp\\ipykernel_18928\\2241008910.py:2: UserWarning: Ignoring `palette` because no `hue` variable has been assigned.\n",
      "  sns.histplot(output_df_svm['Actual'],palette='pastel',label=\"actual\")\n",
      "C:\\Users\\DELL\\AppData\\Local\\Temp\\ipykernel_18928\\2241008910.py:3: UserWarning: Ignoring `palette` because no `hue` variable has been assigned.\n",
      "  sns.histplot(output_df_svm['svm classifier'],palette='pastel',label=\"prediction\", binwidth=0.1, shrink=0.8)\n"
     ]
    },
    {
     "data": {
      "text/plain": [
       "<matplotlib.legend.Legend at 0x238f31ed650>"
      ]
     },
     "execution_count": 47,
     "metadata": {},
     "output_type": "execute_result"
    },
    {
     "data": {
      "image/png": "[encoded data removed]",
      "text/plain": [
       "<Figure size 800x300 with 1 Axes>"
      ]
     },
     "metadata": {},
     "output_type": "display_data"
    }
   ],
   "source": [
    "fig, (ax1) = plt.subplots(1, figsize=(8, 3))\n",
    "sns.histplot(output_df_svm['Actual'],palette='pastel',label=\"actual\")\n",
    "sns.histplot(output_df_svm['svm classifier'],palette='pastel',label=\"prediction\", binwidth=0.1, shrink=0.8)\n",
    "plt.xlabel('Loan Status')\n",
    "plt.ylabel('No of Customers')\n",
    "plt.title('SVM Classifier')\n",
    "plt.xticks([0, 1])  \n",
    "plt.legend()"
   ]
  },
  {
   "cell_type": "markdown",
   "id": "4f577886",
   "metadata": {},
   "source": [
    "## Comparision of different Models"
   ]
  },
  {
   "cell_type": "code",
   "execution_count": 56,
   "id": "0eb767ab",
   "metadata": {},
   "outputs": [],
   "source": [
    "models = ['Logistic Regression','knn','Decision Tree','Random Forest','SVM']\n",
    "accuracy = [84.12,88.479,89,93,84.359]\n",
    "f1_score = [54.34,68.72,74.47,80.6,52.93]"
   ]
  },
  {
   "cell_type": "code",
   "execution_count": 57,
   "id": "e777b9de",
   "metadata": {},
   "outputs": [],
   "source": [
    "Models_Accuracy_df = pd.DataFrame({'Model': models, 'Accuracy': accuracy,'F1_score':f1_score})"
   ]
  },
  {
   "cell_type": "code",
   "execution_count": 58,
   "id": "cc27eec2",
   "metadata": {},
   "outputs": [
    {
     "data": {
      "image/png": "[encoded data removed]",
      "text/plain": [
       "<Figure size 1000x600 with 1 Axes>"
      ]
     },
     "metadata": {},
     "output_type": "display_data"
    }
   ],
   "source": [
    "plt.figure(figsize=(10, 6))\n",
    "plt.plot(Models_Accuracy_df.Model, Models_Accuracy_df.Accuracy, marker='o', linestyle='-')\n",
    "plt.title('Comparision of Different Classification Models')\n",
    "plt.xlabel('Models')\n",
    "plt.ylabel('Accuracy Score')\n",
    "plt.grid(True) \n",
    "plt.yticks(range(80, 101, 2))\n",
    "plt.tight_layout()"
   ]
  },
  {
   "cell_type": "code",
   "execution_count": 59,
   "id": "f461afc1",
   "metadata": {},
   "outputs": [
    {
     "name": "stderr",
     "output_type": "stream",
     "text": [
      "C:\\Users\\DELL\\AppData\\Local\\Temp\\ipykernel_18928\\655472834.py:2: FutureWarning: \n",
      "\n",
      "Passing `palette` without assigning `hue` is deprecated and will be removed in v0.14.0. Assign the `x` variable to `hue` and set `legend=False` for the same effect.\n",
      "\n",
      "  sns.barplot(x='Model', y='Accuracy', data=Models_Accuracy_df, palette='pastel')\n"
     ]
    },
    {
     "data": {
      "image/png": "[encoded data removed]",
      "text/plain": [
       "<Figure size 1000x600 with 1 Axes>"
      ]
     },
     "metadata": {},
     "output_type": "display_data"
    }
   ],
   "source": [
    "plt.figure(figsize=(10, 6))\n",
    "sns.barplot(x='Model', y='Accuracy', data=Models_Accuracy_df, palette='pastel')\n",
    "plt.xlabel('Models')\n",
    "plt.ylabel('Accuracy')\n",
    "plt.title('Accuracy of Different Models')\n",
    "plt.ylim(0, 100)\n",
    "plt.yticks(range(0, 101, 10))\n",
    "plt.show()"
   ]
  },
  {
   "cell_type": "markdown",
   "id": "693eb18a",
   "metadata": {},
   "source": [
    "### We have to go with F1 score, not  accuracy because data is imbalenced"
   ]
  },
  {
   "cell_type": "code",
   "execution_count": 60,
   "id": "352348a8",
   "metadata": {},
   "outputs": [
    {
     "data": {
      "text/html": [
       "<div>\n",
       "<style scoped>\n",
       "    .dataframe tbody tr th:only-of-type {\n",
       "        vertical-align: middle;\n",
       "    }\n",
       "\n",
       "    .dataframe tbody tr th {\n",
       "        vertical-align: top;\n",
       "    }\n",
       "\n",
       "    .dataframe thead th {\n",
       "        text-align: right;\n",
       "    }\n",
       "</style>\n",
       "<table border=\"1\" class=\"dataframe\">\n",
       "  <thead>\n",
       "    <tr style=\"text-align: right;\">\n",
       "      <th></th>\n",
       "      <th>person_age</th>\n",
       "      <th>person_income</th>\n",
       "      <th>person_home_ownership</th>\n",
       "      <th>person_emp_length</th>\n",
       "      <th>loan_intent</th>\n",
       "      <th>loan_grade</th>\n",
       "      <th>loan_amnt</th>\n",
       "      <th>loan_int_rate</th>\n",
       "      <th>loan_percent_income</th>\n",
       "      <th>cb_person_default_on_file</th>\n",
       "      <th>cb_person_cred_hist_length</th>\n",
       "    </tr>\n",
       "  </thead>\n",
       "  <tbody>\n",
       "    <tr>\n",
       "      <th>0</th>\n",
       "      <td>22.0</td>\n",
       "      <td>59000.0</td>\n",
       "      <td>RENT</td>\n",
       "      <td>4.0</td>\n",
       "      <td>PERSONAL</td>\n",
       "      <td>D</td>\n",
       "      <td>8000.0</td>\n",
       "      <td>16.02</td>\n",
       "      <td>0.15</td>\n",
       "      <td>Y</td>\n",
       "      <td>3.0</td>\n",
       "    </tr>\n",
       "    <tr>\n",
       "      <th>1</th>\n",
       "      <td>21.0</td>\n",
       "      <td>9600.0</td>\n",
       "      <td>OWN</td>\n",
       "      <td>5.0</td>\n",
       "      <td>EDUCATION</td>\n",
       "      <td>B</td>\n",
       "      <td>1000.0</td>\n",
       "      <td>11.14</td>\n",
       "      <td>0.10</td>\n",
       "      <td>N</td>\n",
       "      <td>2.0</td>\n",
       "    </tr>\n",
       "    <tr>\n",
       "      <th>2</th>\n",
       "      <td>25.0</td>\n",
       "      <td>9600.0</td>\n",
       "      <td>MORTGAGE</td>\n",
       "      <td>1.0</td>\n",
       "      <td>MEDICAL</td>\n",
       "      <td>C</td>\n",
       "      <td>5500.0</td>\n",
       "      <td>12.87</td>\n",
       "      <td>0.15</td>\n",
       "      <td>N</td>\n",
       "      <td>3.0</td>\n",
       "    </tr>\n",
       "    <tr>\n",
       "      <th>3</th>\n",
       "      <td>23.0</td>\n",
       "      <td>65500.0</td>\n",
       "      <td>RENT</td>\n",
       "      <td>4.0</td>\n",
       "      <td>MEDICAL</td>\n",
       "      <td>C</td>\n",
       "      <td>8000.0</td>\n",
       "      <td>15.23</td>\n",
       "      <td>0.15</td>\n",
       "      <td>N</td>\n",
       "      <td>2.0</td>\n",
       "    </tr>\n",
       "    <tr>\n",
       "      <th>4</th>\n",
       "      <td>24.0</td>\n",
       "      <td>54400.0</td>\n",
       "      <td>RENT</td>\n",
       "      <td>8.0</td>\n",
       "      <td>MEDICAL</td>\n",
       "      <td>C</td>\n",
       "      <td>8000.0</td>\n",
       "      <td>14.27</td>\n",
       "      <td>0.15</td>\n",
       "      <td>Y</td>\n",
       "      <td>4.0</td>\n",
       "    </tr>\n",
       "    <tr>\n",
       "      <th>...</th>\n",
       "      <td>...</td>\n",
       "      <td>...</td>\n",
       "      <td>...</td>\n",
       "      <td>...</td>\n",
       "      <td>...</td>\n",
       "      <td>...</td>\n",
       "      <td>...</td>\n",
       "      <td>...</td>\n",
       "      <td>...</td>\n",
       "      <td>...</td>\n",
       "      <td>...</td>\n",
       "    </tr>\n",
       "    <tr>\n",
       "      <th>32422</th>\n",
       "      <td>26.0</td>\n",
       "      <td>45600.0</td>\n",
       "      <td>RENT</td>\n",
       "      <td>1.0</td>\n",
       "      <td>VENTURE</td>\n",
       "      <td>B</td>\n",
       "      <td>20000.0</td>\n",
       "      <td>10.00</td>\n",
       "      <td>0.44</td>\n",
       "      <td>N</td>\n",
       "      <td>4.0</td>\n",
       "    </tr>\n",
       "    <tr>\n",
       "      <th>32423</th>\n",
       "      <td>26.0</td>\n",
       "      <td>65004.0</td>\n",
       "      <td>RENT</td>\n",
       "      <td>4.0</td>\n",
       "      <td>PERSONAL</td>\n",
       "      <td>D</td>\n",
       "      <td>20000.0</td>\n",
       "      <td>15.58</td>\n",
       "      <td>0.31</td>\n",
       "      <td>Y</td>\n",
       "      <td>4.0</td>\n",
       "    </tr>\n",
       "    <tr>\n",
       "      <th>32424</th>\n",
       "      <td>26.0</td>\n",
       "      <td>64500.0</td>\n",
       "      <td>RENT</td>\n",
       "      <td>0.0</td>\n",
       "      <td>EDUCATION</td>\n",
       "      <td>B</td>\n",
       "      <td>5000.0</td>\n",
       "      <td>11.26</td>\n",
       "      <td>0.08</td>\n",
       "      <td>N</td>\n",
       "      <td>4.0</td>\n",
       "    </tr>\n",
       "    <tr>\n",
       "      <th>32425</th>\n",
       "      <td>26.0</td>\n",
       "      <td>53000.0</td>\n",
       "      <td>MORTGAGE</td>\n",
       "      <td>1.0</td>\n",
       "      <td>PERSONAL</td>\n",
       "      <td>C</td>\n",
       "      <td>5800.0</td>\n",
       "      <td>13.16</td>\n",
       "      <td>0.11</td>\n",
       "      <td>N</td>\n",
       "      <td>4.0</td>\n",
       "    </tr>\n",
       "    <tr>\n",
       "      <th>32426</th>\n",
       "      <td>26.0</td>\n",
       "      <td>76000.0</td>\n",
       "      <td>RENT</td>\n",
       "      <td>3.0</td>\n",
       "      <td>HOMEIMPROVEMENT</td>\n",
       "      <td>B</td>\n",
       "      <td>8000.0</td>\n",
       "      <td>10.99</td>\n",
       "      <td>0.15</td>\n",
       "      <td>N</td>\n",
       "      <td>4.0</td>\n",
       "    </tr>\n",
       "  </tbody>\n",
       "</table>\n",
       "<p>32427 rows × 11 columns</p>\n",
       "</div>"
      ],
      "text/plain": [
       "       person_age  person_income person_home_ownership  person_emp_length  \\\n",
       "0            22.0        59000.0                  RENT                4.0   \n",
       "1            21.0         9600.0                   OWN                5.0   \n",
       "2            25.0         9600.0              MORTGAGE                1.0   \n",
       "3            23.0        65500.0                  RENT                4.0   \n",
       "4            24.0        54400.0                  RENT                8.0   \n",
       "...           ...            ...                   ...                ...   \n",
       "32422        26.0        45600.0                  RENT                1.0   \n",
       "32423        26.0        65004.0                  RENT                4.0   \n",
       "32424        26.0        64500.0                  RENT                0.0   \n",
       "32425        26.0        53000.0              MORTGAGE                1.0   \n",
       "32426        26.0        76000.0                  RENT                3.0   \n",
       "\n",
       "           loan_intent loan_grade  loan_amnt  loan_int_rate  \\\n",
       "0             PERSONAL          D     8000.0          16.02   \n",
       "1            EDUCATION          B     1000.0          11.14   \n",
       "2              MEDICAL          C     5500.0          12.87   \n",
       "3              MEDICAL          C     8000.0          15.23   \n",
       "4              MEDICAL          C     8000.0          14.27   \n",
       "...                ...        ...        ...            ...   \n",
       "32422          VENTURE          B    20000.0          10.00   \n",
       "32423         PERSONAL          D    20000.0          15.58   \n",
       "32424        EDUCATION          B     5000.0          11.26   \n",
       "32425         PERSONAL          C     5800.0          13.16   \n",
       "32426  HOMEIMPROVEMENT          B     8000.0          10.99   \n",
       "\n",
       "       loan_percent_income cb_person_default_on_file  \\\n",
       "0                     0.15                         Y   \n",
       "1                     0.10                         N   \n",
       "2                     0.15                         N   \n",
       "3                     0.15                         N   \n",
       "4                     0.15                         Y   \n",
       "...                    ...                       ...   \n",
       "32422                 0.44                         N   \n",
       "32423                 0.31                         Y   \n",
       "32424                 0.08                         N   \n",
       "32425                 0.11                         N   \n",
       "32426                 0.15                         N   \n",
       "\n",
       "       cb_person_cred_hist_length  \n",
       "0                             3.0  \n",
       "1                             2.0  \n",
       "2                             3.0  \n",
       "3                             2.0  \n",
       "4                             4.0  \n",
       "...                           ...  \n",
       "32422                         4.0  \n",
       "32423                         4.0  \n",
       "32424                         4.0  \n",
       "32425                         4.0  \n",
       "32426                         4.0  \n",
       "\n",
       "[32427 rows x 11 columns]"
      ]
     },
     "execution_count": 60,
     "metadata": {},
     "output_type": "execute_result"
    }
   ],
   "source": [
    "df"
   ]
  },
  {
   "cell_type": "code",
   "execution_count": 61,
   "id": "e9b893de",
   "metadata": {},
   "outputs": [
    {
     "name": "stderr",
     "output_type": "stream",
     "text": [
      "C:\\Users\\DELL\\AppData\\Local\\Temp\\ipykernel_18928\\3276482122.py:1: FutureWarning: \n",
      "\n",
      "Passing `palette` without assigning `hue` is deprecated and will be removed in v0.14.0. Assign the `x` variable to `hue` and set `legend=False` for the same effect.\n",
      "\n",
      "  sns.countplot(x=y, palette='pastel')\n"
     ]
    },
    {
     "data": {
      "image/png": "[encoded data removed]",
      "text/plain": [
       "<Figure size 640x480 with 1 Axes>"
      ]
     },
     "metadata": {},
     "output_type": "display_data"
    }
   ],
   "source": [
    "sns.countplot(x=y, palette='pastel')\n",
    "plt.xlabel('loan_status')\n",
    "plt.ylabel('Count')\n",
    "plt.title('Distribution of Loan Statuses')\n",
    "plt.show()"
   ]
  },
  {
   "cell_type": "markdown",
   "id": "fa3365c6",
   "metadata": {},
   "source": [
    "### F1 score"
   ]
  },
  {
   "cell_type": "code",
   "execution_count": 62,
   "id": "da805116",
   "metadata": {},
   "outputs": [
    {
     "data": {
      "image/png": "[encoded data removed]",
      "text/plain": [
       "<Figure size 1000x600 with 1 Axes>"
      ]
     },
     "metadata": {},
     "output_type": "display_data"
    }
   ],
   "source": [
    "plt.figure(figsize=(10, 6))\n",
    "plt.plot(Models_Accuracy_df.Model, Models_Accuracy_df.F1_score, marker='o', linestyle='-')\n",
    "plt.title('Comparision of Different Classification Models')\n",
    "plt.xlabel('Models')\n",
    "plt.ylabel('Accuracy Score')\n",
    "plt.grid(True) \n",
    "plt.yticks(range(0, 101, 10))\n",
    "plt.tight_layout()"
   ]
  },
  {
   "cell_type": "code",
   "execution_count": 63,
   "id": "f2301527",
   "metadata": {},
   "outputs": [
    {
     "name": "stderr",
     "output_type": "stream",
     "text": [
      "C:\\Users\\DELL\\AppData\\Local\\Temp\\ipykernel_18928\\116774663.py:2: FutureWarning: \n",
      "\n",
      "Passing `palette` without assigning `hue` is deprecated and will be removed in v0.14.0. Assign the `x` variable to `hue` and set `legend=False` for the same effect.\n",
      "\n",
      "  sns.barplot(x='Model', y='F1_score', data=Models_Accuracy_df, palette='pastel')\n"
     ]
    },
    {
     "data": {
      "image/png": "[encoded data removed]",
      "text/plain": [
       "<Figure size 1000x600 with 1 Axes>"
      ]
     },
     "metadata": {},
     "output_type": "display_data"
    }
   ],
   "source": [
    "plt.figure(figsize=(10, 6))\n",
    "sns.barplot(x='Model', y='F1_score', data=Models_Accuracy_df, palette='pastel')\n",
    "plt.xlabel('Models')\n",
    "plt.ylabel('F1 score')\n",
    "plt.title('F1 score of Different Models')\n",
    "plt.ylim(0, 100)\n",
    "plt.yticks(range(0, 101, 10))\n",
    "plt.show()"
   ]
  },
  {
   "cell_type": "code",
   "execution_count": null,
   "id": "c73cffe2",
   "metadata": {},
   "outputs": [],
   "source": []
  }
 ],
 "metadata": {
  "kernelspec": {
   "display_name": "Python 3 (ipykernel)",
   "language": "python",
   "name": "python3"
  },
  "language_info": {
   "codemirror_mode": {
    "name": "ipython",
    "version": 3
   },
   "file_extension": ".py",
   "mimetype": "text/x-python",
   "name": "python",
   "nbconvert_exporter": "python",
   "pygments_lexer": "ipython3",
   "version": "3.11.5"
  }
 },
 "nbformat": 4,
 "nbformat_minor": 5
}
